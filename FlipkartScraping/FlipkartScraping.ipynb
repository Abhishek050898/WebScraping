{
  "nbformat": 4,
  "nbformat_minor": 0,
  "metadata": {
    "colab": {
      "provenance": [],
      "collapsed_sections": []
    },
    "kernelspec": {
      "name": "python3",
      "display_name": "Python 3"
    },
    "language_info": {
      "name": "python"
    }
  },
  "cells": [
    {
      "cell_type": "code",
      "source": [
        "import requests\n",
        "import os\n",
        "from bs4 import BeautifulSoup\n",
        "import pandas as pd"
      ],
      "metadata": {
        "colab": {
          "base_uri": "https://localhost:8080/"
        },
        "id": "AVsTHeiirhoL",
        "outputId": "1733fb1e-e670-4766-ce0a-817b466a8075"
      },
      "execution_count": 12,
      "outputs": [
        {
          "output_type": "stream",
          "name": "stderr",
          "text": [
            "/usr/local/lib/python3.7/dist-packages/requests/__init__.py:91: RequestsDependencyWarning: urllib3 (1.26.12) or chardet (3.0.4) doesn't match a supported version!\n",
            "  RequestsDependencyWarning)\n"
          ]
        }
      ]
    },
    {
      "cell_type": "code",
      "source": [
        "url=\"https://www.flipkart.com/laptops/~buyback-guarantee-on-laptops-/pr?sid=6bo%2Cb5g&uniqBStoreParam1=val1&wid=11.productCard.PMU_V2\"\n",
        "webpage=requests.get(url)\n",
        "web=webpage.content\n",
        "soup = BeautifulSoup(web,\"html.parser\")"
      ],
      "metadata": {
        "id": "G3y1WQRlbLRd"
      },
      "execution_count": 29,
      "outputs": []
    },
    {
      "cell_type": "code",
      "source": [
        "products=[] #List to store name of the product\n",
        "prices=[] #List to store price of the product\n",
        "ratings=[] #List to store rating of the product\n",
        "\n",
        "\n",
        "all_laptops = soup.findAll('a',href=True, attrs={'class':'_1fQZEK'})\n",
        "for laptop in all_laptops:\n",
        "    name=laptop.find('div', attrs={'class':'_4rR01T'})\n",
        "    price=laptop.find('div', attrs={'class':'_30jeq3'})\n",
        "    rating=laptop.find('div', attrs={'class':'_3LWZlK'})\n",
        "    products.append(name.text)\n",
        "    prices.append(price.text)\n",
        "    ratings.append(rating.text)\n",
        "\n",
        "#print(products)"
      ],
      "metadata": {
        "id": "Cdv7WdZEbsxv"
      },
      "execution_count": 36,
      "outputs": []
    },
    {
      "cell_type": "code",
      "source": [
        "df = pd.DataFrame({'Product Name':products,'Price':prices,'Rating':ratings}) \n",
        "df.to_csv('laptop_details.csv', index=False, encoding='utf-8')"
      ],
      "metadata": {
        "id": "UtBghqtPnnlA"
      },
      "execution_count": 37,
      "outputs": []
    },
    {
      "cell_type": "code",
      "source": [],
      "metadata": {
        "id": "JyrhDFYarRaQ"
      },
      "execution_count": null,
      "outputs": []
    }
  ]
}